{
  "nbformat": 4,
  "nbformat_minor": 0,
  "metadata": {
    "accelerator": "GPU",
    "colab": {
      "provenance": []
    },
    "kernelspec": {
      "name": "python3",
      "display_name": "Python 3"
    },
    "language_info": {
      "codemirror_mode": {
        "name": "ipython",
        "version": 3
      },
      "file_extension": ".py",
      "mimetype": "text/x-python",
      "name": "python",
      "nbconvert_exporter": "python",
      "pygments_lexer": "ipython3",
      "version": "3.7.1"
    }
  },
  "cells": [
    {
      "cell_type": "markdown",
      "metadata": {
        "id": "EgshItiNbYmH"
      },
      "source": [
        "# Q-Learning\n",
        "\n",
        "\n",
        "Table Q-learning: Frozen Lake.\n",
        "\n",
        "Epsilon-Greedy: Taxi\n",
        "\n",
        "Approximation, Deep Q-Learning\n"
      ]
    },
    {
      "cell_type": "code",
      "metadata": {
        "id": "2-zMowjHFz3t"
      },
      "source": [
        "import numpy as np\n",
        "\n",
        "import random\n",
        "\n",
        "import gym\n",
        "\n",
        "import matplotlib.pyplot as plt\n",
        "%matplotlib inline"
      ],
      "execution_count": 1,
      "outputs": []
    },
    {
      "cell_type": "markdown",
      "metadata": {
        "id": "IAGOjhbmg409"
      },
      "source": [
        "### Create the environment\n"
      ]
    },
    {
      "cell_type": "code",
      "metadata": {
        "id": "mIprlbAyJo18",
        "colab": {
          "base_uri": "https://localhost:8080/"
        },
        "outputId": "470c7a0b-7f01-487a-fb4b-950a2d0c49c2"
      },
      "source": [
        "env = gym.make('FrozenLake-v1', is_slippery=False, new_step_api=True)\n",
        "\n",
        "NUM_STATES = env.observation_space.n\n",
        "NUM_ACTIONS = env.action_space.n\n",
        "\n",
        "print('States: {}'.format(NUM_STATES))\n",
        "print('Actions: {}'.format(NUM_ACTIONS))"
      ],
      "execution_count": 4,
      "outputs": [
        {
          "output_type": "stream",
          "name": "stdout",
          "text": [
            "States: 16\n",
            "Actions: 4\n"
          ]
        }
      ]
    },
    {
      "cell_type": "markdown",
      "metadata": {
        "id": "GjQrZ6wlFHxX"
      },
      "source": [
        "### Parameters"
      ]
    },
    {
      "cell_type": "code",
      "metadata": {
        "id": "DWdeWWIHZcC2"
      },
      "source": [
        "lr = 0.8 # learning rate\n",
        "gamma = 0.95 # discounting \n",
        "\n",
        "NUM_EPISODES = 50 \n",
        "MAX_STEPS = 100 "
      ],
      "execution_count": 11,
      "outputs": []
    },
    {
      "cell_type": "markdown",
      "metadata": {
        "id": "RMqTIKoAF6VG"
      },
      "source": [
        "### Training the deterministic Q-function\n",
        "\n"
      ]
    },
    {
      "cell_type": "code",
      "metadata": {
        "id": "gsz97yV_dbce",
        "colab": {
          "base_uri": "https://localhost:8080/"
        },
        "outputId": "a46bc202-4c1e-42b4-c361-8e072ba336bb"
      },
      "source": [
        "pathLenList = [] # path lengths in episodes\n",
        "totalRewardList = [] # reward/episode\n",
        "\n",
        "# tabeled Q-function inicialization \n",
        "Q = np.random.rand(NUM_STATES, NUM_ACTIONS)\n",
        "\n",
        "for i in range(NUM_EPISODES):\n",
        "    \n",
        "    s = env.reset()\n",
        "\n",
        "    totalReward = 0\n",
        "    step = 0\n",
        "\n",
        "    while step < MAX_STEPS:\n",
        "        step += 1\n",
        "            \n",
        "        # choice using current policy\n",
        "        a = np.argmax(Q[s,:])\n",
        "        \n",
        "        s1, r, done, _, _ = env.step(a)\n",
        "        \n",
        "        # targeted Q-function\n",
        "        if done:\n",
        "            Q_target = r\n",
        "        else:\n",
        "            Q_target = r + gamma * np.max(Q[s1,:])\n",
        "            \n",
        "        # implementing a change of Q-function\n",
        "        Q[s,a] = (1-lr) * Q[s,a] + lr * Q_target\n",
        "        \n",
        "        totalReward += r\n",
        "        s = s1\n",
        "        \n",
        "        \n",
        "        if done:\n",
        "            break\n",
        "            \n",
        "    pathLenList.append(step)\n",
        "    totalRewardList.append(totalReward)\n",
        "    print('Episode {}: Total reward = {}'.format(i, totalReward))        "
      ],
      "execution_count": 12,
      "outputs": [
        {
          "output_type": "stream",
          "name": "stdout",
          "text": [
            "Episode 0: Total reward = 0.0\n",
            "Episode 1: Total reward = 0.0\n",
            "Episode 2: Total reward = 1.0\n",
            "Episode 3: Total reward = 1.0\n",
            "Episode 4: Total reward = 1.0\n",
            "Episode 5: Total reward = 1.0\n",
            "Episode 6: Total reward = 1.0\n",
            "Episode 7: Total reward = 1.0\n",
            "Episode 8: Total reward = 1.0\n",
            "Episode 9: Total reward = 1.0\n",
            "Episode 10: Total reward = 1.0\n",
            "Episode 11: Total reward = 1.0\n",
            "Episode 12: Total reward = 1.0\n",
            "Episode 13: Total reward = 1.0\n",
            "Episode 14: Total reward = 1.0\n",
            "Episode 15: Total reward = 1.0\n",
            "Episode 16: Total reward = 1.0\n",
            "Episode 17: Total reward = 1.0\n",
            "Episode 18: Total reward = 1.0\n",
            "Episode 19: Total reward = 1.0\n",
            "Episode 20: Total reward = 1.0\n",
            "Episode 21: Total reward = 1.0\n",
            "Episode 22: Total reward = 1.0\n",
            "Episode 23: Total reward = 1.0\n",
            "Episode 24: Total reward = 1.0\n",
            "Episode 25: Total reward = 1.0\n",
            "Episode 26: Total reward = 1.0\n",
            "Episode 27: Total reward = 1.0\n",
            "Episode 28: Total reward = 1.0\n",
            "Episode 29: Total reward = 1.0\n",
            "Episode 30: Total reward = 1.0\n",
            "Episode 31: Total reward = 1.0\n",
            "Episode 32: Total reward = 1.0\n",
            "Episode 33: Total reward = 1.0\n",
            "Episode 34: Total reward = 1.0\n",
            "Episode 35: Total reward = 1.0\n",
            "Episode 36: Total reward = 1.0\n",
            "Episode 37: Total reward = 1.0\n",
            "Episode 38: Total reward = 1.0\n",
            "Episode 39: Total reward = 1.0\n",
            "Episode 40: Total reward = 1.0\n",
            "Episode 41: Total reward = 1.0\n",
            "Episode 42: Total reward = 1.0\n",
            "Episode 43: Total reward = 1.0\n",
            "Episode 44: Total reward = 1.0\n",
            "Episode 45: Total reward = 1.0\n",
            "Episode 46: Total reward = 1.0\n",
            "Episode 47: Total reward = 1.0\n",
            "Episode 48: Total reward = 1.0\n",
            "Episode 49: Total reward = 1.0\n"
          ]
        }
      ]
    },
    {
      "cell_type": "markdown",
      "metadata": {
        "id": "O5mhKjbxK8ev"
      },
      "source": [
        "Path history"
      ]
    },
    {
      "cell_type": "code",
      "metadata": {
        "id": "mGlhKYpcdoR8",
        "colab": {
          "base_uri": "https://localhost:8080/",
          "height": 430
        },
        "outputId": "7942ea4c-00c5-433f-abd9-624131c24512"
      },
      "source": [
        "plt.plot(pathLenList)\n",
        "plt.grid()"
      ],
      "execution_count": 14,
      "outputs": [
        {
          "output_type": "display_data",
          "data": {
            "text/plain": [
              "<Figure size 640x480 with 1 Axes>"
            ],
            "image/png": "[encoded data removed]"
          },
          "metadata": {}
        }
      ]
    },
    {
      "cell_type": "markdown",
      "metadata": {
        "id": "Ft3igyadLQ81"
      },
      "source": [
        "Total reward"
      ]
    },
    {
      "cell_type": "code",
      "metadata": {
        "id": "A91RbeMHdpL4",
        "colab": {
          "base_uri": "https://localhost:8080/",
          "height": 430
        },
        "outputId": "0dee25cf-3957-45db-9755-074eeb843560"
      },
      "source": [
        "plt.plot(totalRewardList)\n",
        "plt.grid()"
      ],
      "execution_count": 15,
      "outputs": [
        {
          "output_type": "display_data",
          "data": {
            "text/plain": [
              "<Figure size 640x480 with 1 Axes>"
            ],
            "image/png": "[encoded data removed]"
          },
          "metadata": {}
        }
      ]
    },
    {
      "cell_type": "markdown",
      "metadata": {
        "id": "NCRcn4ihLo2m"
      },
      "source": [
        "### Taxi\n",
        "\n",
        "Exploration Q-learning, epsilon-greedy approach"
      ]
    },
    {
      "cell_type": "code",
      "source": [
        "env = gym.make(\"Taxi-v3\", new_step_api=True)\n",
        "\n",
        "NUM_STATES = env.observation_space.n\n",
        "NUM_ACTIONS = env.action_space.n\n",
        "\n",
        "print('States: {}'.format(NUM_STATES))\n",
        "print('Actions: {}'.format(NUM_ACTIONS))"
      ],
      "metadata": {
        "colab": {
          "base_uri": "https://localhost:8080/"
        },
        "id": "32ziYyRqpzmt",
        "outputId": "5e1c9b04-0242-4add-f3df-873c08e49f31"
      },
      "execution_count": 46,
      "outputs": [
        {
          "output_type": "stream",
          "name": "stdout",
          "text": [
            "States: 500\n",
            "Actions: 6\n"
          ]
        }
      ]
    },
    {
      "cell_type": "code",
      "source": [
        "lr = 0.8 # learning rate\n",
        "gamma = 0.6 # discounting rate\n",
        "#epsilon = 0.1 # chance of a random action\n",
        "\n",
        "NUM_EPISODES = 20000 \n",
        "MAX_STEPS = 100 "
      ],
      "metadata": {
        "id": "AD6G80hNtDwZ"
      },
      "execution_count": 47,
      "outputs": []
    },
    {
      "cell_type": "code",
      "source": [
        "pathLenList = [] # path lengths in episodes\n",
        "totalRewardList = [] # reward/episode\n",
        "\n",
        "# tabeled Q-function inicialization \n",
        "Q = np.random.rand(NUM_STATES, NUM_ACTIONS)"
      ],
      "metadata": {
        "id": "DejIdp97txBc"
      },
      "execution_count": 48,
      "outputs": []
    },
    {
      "cell_type": "code",
      "source": [
        "for i in range(NUM_EPISODES):\n",
        "    \n",
        "    s = env.reset()\n",
        "    done = False\n",
        "    totalReward = 0\n",
        "    steps = 0\n",
        "    penalties = 0\n",
        "    epsilon = 0.5 - float(i)/NUM_EPISODES/2\n",
        "\n",
        "    while not done:\n",
        "        steps += 1\n",
        "        if random.uniform(0, 1) < epsilon:\n",
        "            a = env.action_space.sample() # Pick a new action for this state.\n",
        "        else:\n",
        "            a = np.argmax(Q[s,]) # Pick the action which has previously given the highest reward.\n",
        "    \n",
        "        \n",
        "\n",
        "        \n",
        "        s1, r, done, tr, info = env.step(a)\n",
        "        \n",
        "        # targeted Q-function\n",
        "        if done:\n",
        "            Q_target = r\n",
        "        else:\n",
        "            Q_target = r + gamma * np.max(Q[s1,:])\n",
        "            \n",
        "        # implementing a change of Q-function\n",
        "        Q[s,a] = (1-lr) * Q[s,a] + lr * Q_target\n",
        "\n",
        "\n",
        "        totalReward += r\n",
        "        if r == -10: # Checks if agent attempted to do an illegal action.\n",
        "            penalties += 1\n",
        "        s = s1\n",
        "        \n",
        "        \n",
        "        if done:\n",
        "            break\n",
        "            \n",
        "    pathLenList.append(steps)\n",
        "    totalRewardList.append(totalReward)\n",
        "    if i % 1000 == 0:\n",
        "      print('Episode {}: Total reward = {}'.format(i, totalReward))\n",
        "\n",
        "print(\"Training finished.\\n\")\n"
      ],
      "metadata": {
        "colab": {
          "base_uri": "https://localhost:8080/"
        },
        "id": "dgFy6Mi0uEQB",
        "outputId": "b65d33fe-b552-47a1-d134-c1ab5ea359de"
      },
      "execution_count": 52,
      "outputs": [
        {
          "output_type": "stream",
          "name": "stdout",
          "text": [
            "Episode 0: Total reward = -1\n",
            "Episode 1000: Total reward = -17\n",
            "Episode 2000: Total reward = -40\n",
            "Episode 3000: Total reward = -25\n",
            "Episode 4000: Total reward = -42\n",
            "Episode 5000: Total reward = -16\n",
            "Episode 6000: Total reward = -22\n",
            "Episode 7000: Total reward = -5\n",
            "Episode 8000: Total reward = 1\n",
            "Episode 9000: Total reward = -7\n",
            "Episode 10000: Total reward = 0\n",
            "Episode 11000: Total reward = -19\n",
            "Episode 12000: Total reward = 6\n",
            "Episode 13000: Total reward = -19\n",
            "Episode 14000: Total reward = 8\n",
            "Episode 15000: Total reward = 6\n",
            "Episode 16000: Total reward = -4\n",
            "Episode 17000: Total reward = 8\n",
            "Episode 18000: Total reward = -3\n",
            "Episode 19000: Total reward = 7\n",
            "Training finished.\n",
            "\n"
          ]
        }
      ]
    },
    {
      "cell_type": "code",
      "source": [
        "total_epochs, total_penalties = 0, 0\n",
        "\n",
        "for _ in range(10):\n",
        "    s = env.reset()\n",
        "    epochs, penalties, r = 0, 0, 0\n",
        "    \n",
        "    done = False\n",
        "\n",
        "\n",
        "    while not done:\n",
        "        a = np.argmax(Q[s, :])\n",
        "        s, r, done, tr, info = env.step(a)\n",
        "\n",
        "        if r == -10:\n",
        "            penalties += 1\n",
        "\n",
        "        epochs += 1\n",
        "        \n",
        "        #env.render()\n",
        "        \n",
        "        # print(f\"Timestep: {epochs}\")\n",
        "        # print(f\"State: {s}\")\n",
        "        # print(f\"Action: {a}\")\n",
        "        # print(f\"Reward: {r}\")\n",
        "         \n",
        "\n",
        "    total_penalties += penalties\n",
        "    total_epochs += epochs\n",
        "\n",
        "print(f\"Results after 10 episodes:\")\n",
        "print(f\"Average timesteps per episode: {total_epochs / 10}\")\n",
        "print(f\"Average penalties per episode: {total_penalties / 10}\")"
      ],
      "metadata": {
        "colab": {
          "base_uri": "https://localhost:8080/"
        },
        "id": "c35QIr6KxS_r",
        "outputId": "65bfe0c5-5ff3-4a2d-e2a2-891dfe552101"
      },
      "execution_count": 53,
      "outputs": [
        {
          "output_type": "stream",
          "name": "stdout",
          "text": [
            "Results after 10 episodes:\n",
            "Average timesteps per episode: 14.4\n",
            "Average penalties per episode: 0.0\n"
          ]
        }
      ]
    },
    {
      "cell_type": "code",
      "source": [
        "plt.plot(pathLenList)\n",
        "plt.grid()"
      ],
      "metadata": {
        "colab": {
          "base_uri": "https://localhost:8080/",
          "height": 430
        },
        "id": "dqH_rKTe5cBM",
        "outputId": "718247f6-d1ea-4e28-ae91-1b0fc772b233"
      },
      "execution_count": 43,
      "outputs": [
        {
          "output_type": "display_data",
          "data": {
            "text/plain": [
              "<Figure size 640x480 with 1 Axes>"
            ],
            "image/png": "[encoded data removed]"
          },
          "metadata": {}
        }
      ]
    },
    {
      "cell_type": "code",
      "source": [
        "plt.plot(totalRewardList)\n",
        "plt.grid()"
      ],
      "metadata": {
        "colab": {
          "base_uri": "https://localhost:8080/",
          "height": 430
        },
        "id": "QXFnR-wH5_b7",
        "outputId": "31ff7226-afed-49c6-c849-05fc6d73747c"
      },
      "execution_count": 45,
      "outputs": [
        {
          "output_type": "display_data",
          "data": {
            "text/plain": [
              "<Figure size 640x480 with 1 Axes>"
            ],
            "image/png": "[encoded data removed]"
          },
          "metadata": {}
        }
      ]
    },
    {
      "cell_type": "code",
      "source": [],
      "metadata": {
        "id": "sg7iYBp26GKk"
      },
      "execution_count": null,
      "outputs": []
    },
    {
      "cell_type": "markdown",
      "source": [
        "\n",
        "\n",
        "\n",
        "###Deep Q-Learning: Frozen Lake\n",
        "\n"
      ],
      "metadata": {
        "id": "UpPsKkQaH_PL"
      }
    },
    {
      "cell_type": "code",
      "source": [
        "import tensorflow as tf"
      ],
      "metadata": {
        "id": "VCZziAUhIHIi"
      },
      "execution_count": 2,
      "outputs": []
    },
    {
      "cell_type": "markdown",
      "metadata": {
        "id": "BJTqjsNTIYkp"
      },
      "source": [
        "### Create the environment\n"
      ]
    },
    {
      "cell_type": "code",
      "metadata": {
        "colab": {
          "base_uri": "https://localhost:8080/"
        },
        "outputId": "937e9910-0c46-4d77-dde5-8517fde2fb45",
        "id": "00Vh_yHxIYkp"
      },
      "source": [
        "env = gym.make('FrozenLake-v1', is_slippery=False, new_step_api=True)\n",
        "\n",
        "NUM_STATES = env.observation_space.n\n",
        "NUM_ACTIONS = env.action_space.n\n",
        "\n",
        "print('States: {}'.format(NUM_STATES))\n",
        "print('Actions: {}'.format(NUM_ACTIONS))"
      ],
      "execution_count": 3,
      "outputs": [
        {
          "output_type": "stream",
          "name": "stdout",
          "text": [
            "States: 16\n",
            "Actions: 4\n"
          ]
        },
        {
          "output_type": "stream",
          "name": "stderr",
          "text": [
            "/usr/local/lib/python3.10/dist-packages/ipykernel/ipkernel.py:283: DeprecationWarning: `should_run_async` will not call `transform_cell` automatically in the future. Please pass the result to `transformed_cell` argument and any exception that happen during thetransform in `preprocessing_exc_tuple` in IPython 7.17 and above.\n",
            "  and should_run_async(code)\n"
          ]
        }
      ]
    },
    {
      "cell_type": "markdown",
      "metadata": {
        "id": "UpGfck4HIYkq"
      },
      "source": [
        "### Parameters"
      ]
    },
    {
      "cell_type": "code",
      "metadata": {
        "id": "PVihCHoGIYkq"
      },
      "source": [
        "lr = 0.1 # learning rate\n",
        "gamma = 0.95 # discounting rate\n",
        "\n",
        "NUM_EPISODES = 1000 \n",
        "MAX_STEPS = 100 \n",
        "\n",
        "REWARD_AVERAGE_WINDOW = 20 # moving average"
      ],
      "execution_count": 4,
      "outputs": []
    },
    {
      "cell_type": "markdown",
      "source": [
        "### Create the model, analog of Q-function"
      ],
      "metadata": {
        "id": "qxDP5tcwKWNu"
      }
    },
    {
      "cell_type": "code",
      "source": [
        "# same size as the Q-function previously\n",
        "# helps to transform state s into vector\n",
        "model = tf.keras.Sequential([\n",
        "    \n",
        "    \n",
        "    tf.keras.layers.Embedding(NUM_STATES, NUM_ACTIONS, tf.initializers.RandomUniform(0, 1)),\n",
        "    \n",
        "\n",
        "])\n",
        "\n",
        "#function to calculate the vector\n",
        "def evalQ(s):\n",
        "    inp = np.array([[s]], dtype=np.int32)\n",
        "    return model(inp).numpy()[0][0]"
      ],
      "metadata": {
        "id": "OvQq4kl2Kh_7"
      },
      "execution_count": 22,
      "outputs": []
    },
    {
      "cell_type": "code",
      "source": [
        "#loss function similar to regression tasks\n",
        "\n",
        "def loss(q1, q2):\n",
        "    return tf.reduce_sum(tf.square(q1 - q2))\n",
        "\n",
        "optimizer = tf.keras.optimizers.SGD(learning_rate=lr)\n",
        "model.compile(loss=loss, optimizer=optimizer)"
      ],
      "metadata": {
        "id": "rf3z8qWJLO-e"
      },
      "execution_count": 23,
      "outputs": []
    },
    {
      "cell_type": "code",
      "source": [
        "pathLenList = [] \n",
        "totalRewardList = [] \n",
        "totalRewardAverageList = [] # moving average on episode\n",
        "\n",
        "for i in range(NUM_EPISODES):\n",
        "\n",
        "    eps = 1.0 - i / NUM_EPISODES\n",
        "\n",
        "    s = env.reset()\n",
        "\n",
        "    totalReward = 0\n",
        "    step = 0\n",
        "\n",
        "    while step < MAX_STEPS:\n",
        "        step += 1\n",
        "\n",
        "        Q_s = evalQ(s)\n",
        "        \n",
        "        if np.random.rand() < eps:\n",
        "            # random action\n",
        "            a = env.action_space.sample()\n",
        "        else:\n",
        "            # action based on current policy\n",
        "            a = np.argmax(Q_s)\n",
        "        \n",
        "        # next step\n",
        "        s1, r, done, tr, info = env.step(a)\n",
        "\n",
        "        Q_s1 = evalQ(s1)\n",
        "        \n",
        "        # new Q-function value\n",
        "        Q_target = Q_s\n",
        "        if done:\n",
        "            Q_target[a] = r\n",
        "        else:\n",
        "            Q_target[a] = r + gamma * np.max(Q_s1)\n",
        "              \n",
        "        # Q-function update\n",
        "        inp = np.array([[s]], dtype=np.int32)\n",
        "        model.train_on_batch(inp, Q_target[None, None, ...]) # one step of gradient descent/training of the model, additional dimensions for tf model, using one batch\n",
        "        \n",
        "        totalReward += r\n",
        "        s = s1\n",
        "        \n",
        "        if done:\n",
        "            break\n",
        "            \n",
        "    pathLenList.append(step)\n",
        "    totalRewardList.append(totalReward)\n",
        "    \n",
        "    if i % REWARD_AVERAGE_WINDOW == 0 and i >= REWARD_AVERAGE_WINDOW:\n",
        "        totalRewardAverage = np.mean(totalRewardList[-REWARD_AVERAGE_WINDOW:])\n",
        "        totalRewardAverageList.append(totalRewardAverage)\n",
        "        if i % 100 == 0:\n",
        "            print('Episode {}: average total reward = {}'.format(i, totalRewardAverage))"
      ],
      "metadata": {
        "colab": {
          "base_uri": "https://localhost:8080/"
        },
        "id": "HjovRVq8OfUP",
        "outputId": "3cd930ef-76ef-4f7e-fc8f-499464df7cf1"
      },
      "execution_count": 24,
      "outputs": [
        {
          "output_type": "stream",
          "name": "stdout",
          "text": [
            "Episode 100: average total reward = 0.0\n",
            "Episode 200: average total reward = 0.0\n",
            "Episode 300: average total reward = 0.1\n",
            "Episode 400: average total reward = 0.25\n",
            "Episode 500: average total reward = 0.45\n",
            "Episode 600: average total reward = 0.45\n",
            "Episode 700: average total reward = 0.65\n",
            "Episode 800: average total reward = 0.85\n",
            "Episode 900: average total reward = 0.85\n"
          ]
        }
      ]
    },
    {
      "cell_type": "code",
      "source": [
        "plt.plot(pathLenList)\n",
        "plt.grid()"
      ],
      "metadata": {
        "colab": {
          "base_uri": "https://localhost:8080/",
          "height": 431
        },
        "id": "o4IxPeN_SBWF",
        "outputId": "1a7d7cc4-64e8-409c-b998-78771bdd10cd"
      },
      "execution_count": 25,
      "outputs": [
        {
          "output_type": "display_data",
          "data": {
            "text/plain": [
              "<Figure size 640x480 with 1 Axes>"
            ],
            "image/png": "[encoded data removed]"
          },
          "metadata": {}
        }
      ]
    },
    {
      "cell_type": "code",
      "source": [
        "plt.plot(totalRewardAverageList)\n",
        "plt.grid()"
      ],
      "metadata": {
        "colab": {
          "base_uri": "https://localhost:8080/",
          "height": 430
        },
        "id": "WU-SWo9DSD50",
        "outputId": "f998a7b2-a29a-4e3b-ec4e-bd896a5b3243"
      },
      "execution_count": 26,
      "outputs": [
        {
          "output_type": "display_data",
          "data": {
            "text/plain": [
              "<Figure size 640x480 with 1 Axes>"
            ],
            "image/png": "[encoded data removed]"
          },
          "metadata": {}
        }
      ]
    },
    {
      "cell_type": "code",
      "source": [
        "totalReward = 0\n",
        "s = env.reset()\n",
        "\n",
        "for _ in range(100):\n",
        "    \n",
        "    a = np.argmax(evalQ(s)) \n",
        "    s, r, done, tr, info = env.step(a)\n",
        "    totalReward += r\n",
        "    if done:\n",
        "        break\n",
        "\n",
        "env.close()\n",
        "print('Total reward = {}'.format(totalReward))"
      ],
      "metadata": {
        "colab": {
          "base_uri": "https://localhost:8080/"
        },
        "id": "Ne3mrA-tSI2g",
        "outputId": "ab246398-e9f0-4a05-bce4-04d0a9af99a4"
      },
      "execution_count": 27,
      "outputs": [
        {
          "output_type": "stream",
          "name": "stdout",
          "text": [
            "Total reward = 1.0\n"
          ]
        }
      ]
    },
    {
      "cell_type": "code",
      "source": [],
      "metadata": {
        "id": "cVy6dHbws4WS"
      },
      "execution_count": null,
      "outputs": []
    }
  ]
}